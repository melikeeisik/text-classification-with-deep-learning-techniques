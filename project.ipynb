{
 "cells": [
  {
   "cell_type": "code",
   "execution_count": 1,
   "id": "30b0d6b9",
   "metadata": {},
   "outputs": [],
   "source": [
    "import numpy as np\n",
    "import pandas as pd"
   ]
  },
  {
   "cell_type": "code",
   "execution_count": 2,
   "id": "920b78eb",
   "metadata": {
    "scrolled": true
   },
   "outputs": [],
   "source": [
    "from simpletransformers.classification import ClassificationModel"
   ]
  },
  {
   "cell_type": "code",
   "execution_count": 3,
   "id": "d0fcf959",
   "metadata": {},
   "outputs": [
    {
     "data": {
      "text/html": [
       "<div>\n",
       "<style scoped>\n",
       "    .dataframe tbody tr th:only-of-type {\n",
       "        vertical-align: middle;\n",
       "    }\n",
       "\n",
       "    .dataframe tbody tr th {\n",
       "        vertical-align: top;\n",
       "    }\n",
       "\n",
       "    .dataframe thead th {\n",
       "        text-align: right;\n",
       "    }\n",
       "</style>\n",
       "<table border=\"1\" class=\"dataframe\">\n",
       "  <thead>\n",
       "    <tr style=\"text-align: right;\">\n",
       "      <th></th>\n",
       "      <th>kategori</th>\n",
       "      <th>metin</th>\n",
       "    </tr>\n",
       "  </thead>\n",
       "  <tbody>\n",
       "    <tr>\n",
       "      <th>0</th>\n",
       "      <td>Bilim Ve Teknoloji</td>\n",
       "      <td>Fransa Ulusal Arkeolojik Araştırma Enstitüsü’n...</td>\n",
       "    </tr>\n",
       "    <tr>\n",
       "      <th>1</th>\n",
       "      <td>Bilim Ve Teknoloji</td>\n",
       "      <td>Baykar Teknoloji Lideri Selçuk Bayraktar, Kana...</td>\n",
       "    </tr>\n",
       "    <tr>\n",
       "      <th>2</th>\n",
       "      <td>Bilim Ve Teknoloji</td>\n",
       "      <td>Soyuz MS-18 uzay aracı, Kazakistan’ın Baykonur...</td>\n",
       "    </tr>\n",
       "    <tr>\n",
       "      <th>3</th>\n",
       "      <td>Bilim Ve Teknoloji</td>\n",
       "      <td>Siyasetten ekonomiye, spordan sağlığa, özel ha...</td>\n",
       "    </tr>\n",
       "    <tr>\n",
       "      <th>4</th>\n",
       "      <td>Bilim Ve Teknoloji</td>\n",
       "      <td>Öğrencilerin uzay teknolojileri ve roket bilim...</td>\n",
       "    </tr>\n",
       "    <tr>\n",
       "      <th>...</th>\n",
       "      <td>...</td>\n",
       "      <td>...</td>\n",
       "    </tr>\n",
       "    <tr>\n",
       "      <th>3056</th>\n",
       "      <td>Spor</td>\n",
       "      <td>UEFA Avrupa Ligi'nde 2016-2017 sezonu grup kur...</td>\n",
       "    </tr>\n",
       "    <tr>\n",
       "      <th>3057</th>\n",
       "      <td>Spor</td>\n",
       "      <td>Spor Toto Süper Lig'in 2. haftasında görev ala...</td>\n",
       "    </tr>\n",
       "    <tr>\n",
       "      <th>3058</th>\n",
       "      <td>Spor</td>\n",
       "      <td>Geçen sezonun sona ermesinin ardından Trabzons...</td>\n",
       "    </tr>\n",
       "    <tr>\n",
       "      <th>3059</th>\n",
       "      <td>Spor</td>\n",
       "      <td>TFF'den yapılan açıklamada, daha önce kurulda ...</td>\n",
       "    </tr>\n",
       "    <tr>\n",
       "      <th>3060</th>\n",
       "      <td>Spor</td>\n",
       "      <td>2016 Rio Olimpiyat Oyunları'nda Türkiye'ye atl...</td>\n",
       "    </tr>\n",
       "  </tbody>\n",
       "</table>\n",
       "<p>3061 rows × 2 columns</p>\n",
       "</div>"
      ],
      "text/plain": [
       "                kategori                                              metin\n",
       "0     Bilim Ve Teknoloji  Fransa Ulusal Arkeolojik Araştırma Enstitüsü’n...\n",
       "1     Bilim Ve Teknoloji  Baykar Teknoloji Lideri Selçuk Bayraktar, Kana...\n",
       "2     Bilim Ve Teknoloji  Soyuz MS-18 uzay aracı, Kazakistan’ın Baykonur...\n",
       "3     Bilim Ve Teknoloji  Siyasetten ekonomiye, spordan sağlığa, özel ha...\n",
       "4     Bilim Ve Teknoloji  Öğrencilerin uzay teknolojileri ve roket bilim...\n",
       "...                  ...                                                ...\n",
       "3056                Spor  UEFA Avrupa Ligi'nde 2016-2017 sezonu grup kur...\n",
       "3057                Spor  Spor Toto Süper Lig'in 2. haftasında görev ala...\n",
       "3058                Spor  Geçen sezonun sona ermesinin ardından Trabzons...\n",
       "3059                Spor  TFF'den yapılan açıklamada, daha önce kurulda ...\n",
       "3060                Spor  2016 Rio Olimpiyat Oyunları'nda Türkiye'ye atl...\n",
       "\n",
       "[3061 rows x 2 columns]"
      ]
     },
     "execution_count": 3,
     "metadata": {},
     "output_type": "execute_result"
    }
   ],
   "source": [
    "a=pd.read_excel(\"Projem.xlsx\")\n",
    "a"
   ]
  },
  {
   "cell_type": "code",
   "execution_count": 4,
   "id": "34184fc7",
   "metadata": {},
   "outputs": [],
   "source": [
    "a[\"kategori\"].unique()\n",
    "a['labels'] = pd.factorize(a.kategori)[0]"
   ]
  },
  {
   "cell_type": "code",
   "execution_count": 5,
   "id": "e5f5c799",
   "metadata": {},
   "outputs": [],
   "source": [
    "from sklearn.model_selection import train_test_split"
   ]
  },
  {
   "cell_type": "code",
   "execution_count": 6,
   "id": "e7411b61",
   "metadata": {},
   "outputs": [],
   "source": [
    "train, test = train_test_split(a, test_size=0.2, random_state=42)\n",
    "\n",
    "train=train[[\"metin\",\"labels\"]]\n",
    "test=test[[\"metin\",\"labels\"]]\n",
    "\n",
    "#for bert text = string      label = int\n",
    "train[\"metin\"]=train[\"metin\"].apply(lambda r: str(r))\n",
    "train['labels']=train['labels'].astype(int)"
   ]
  },
  {
   "cell_type": "code",
   "execution_count": 7,
   "id": "e244457d",
   "metadata": {},
   "outputs": [
    {
     "name": "stderr",
     "output_type": "stream",
     "text": [
      "Some weights of the model checkpoint at dbmdz/bert-base-turkish-uncased were not used when initializing BertForSequenceClassification: ['cls.predictions.decoder.bias', 'cls.predictions.transform.dense.weight', 'cls.seq_relationship.bias', 'cls.predictions.transform.LayerNorm.weight', 'cls.predictions.transform.LayerNorm.bias', 'cls.seq_relationship.weight', 'cls.predictions.bias', 'cls.predictions.decoder.weight', 'cls.predictions.transform.dense.bias']\n",
      "- This IS expected if you are initializing BertForSequenceClassification from the checkpoint of a model trained on another task or with another architecture (e.g. initializing a BertForSequenceClassification model from a BertForPreTraining model).\n",
      "- This IS NOT expected if you are initializing BertForSequenceClassification from the checkpoint of a model that you expect to be exactly identical (initializing a BertForSequenceClassification model from a BertForSequenceClassification model).\n",
      "Some weights of BertForSequenceClassification were not initialized from the model checkpoint at dbmdz/bert-base-turkish-uncased and are newly initialized: ['classifier.weight', 'classifier.bias']\n",
      "You should probably TRAIN this model on a down-stream task to be able to use it for predictions and inference.\n"
     ]
    }
   ],
   "source": [
    "model = ClassificationModel('bert', 'dbmdz/bert-base-turkish-uncased', num_labels=5, use_cuda=False,\n",
    "                            args={'reprocess_input_data': True, 'overwrite_output_dir': True, 'num_train_epochs': 3, \"train_batch_size\": 64 , \"fp16\":False, \"output_dir\": \"bert_model\"})"
   ]
  },
  {
   "cell_type": "code",
   "execution_count": 8,
   "id": "b7aa223a",
   "metadata": {},
   "outputs": [
    {
     "name": "stderr",
     "output_type": "stream",
     "text": [
      "D:\\Anaconda\\lib\\site-packages\\simpletransformers\\classification\\classification_model.py:612: UserWarning: Dataframe headers not specified. Falling back to using column 0 as text and column 1 as labels.\n",
      "  warnings.warn(\n"
     ]
    },
    {
     "data": {
      "application/vnd.jupyter.widget-view+json": {
       "model_id": "7c7d623290bd435fbfc4e3b11724c867",
       "version_major": 2,
       "version_minor": 0
      },
      "text/plain": [
       "  0%|          | 0/2448 [00:00<?, ?it/s]"
      ]
     },
     "metadata": {},
     "output_type": "display_data"
    },
    {
     "data": {
      "application/vnd.jupyter.widget-view+json": {
       "model_id": "50119669671249beab841f35f5555e54",
       "version_major": 2,
       "version_minor": 0
      },
      "text/plain": [
       "Epoch:   0%|          | 0/3 [00:00<?, ?it/s]"
      ]
     },
     "metadata": {},
     "output_type": "display_data"
    },
    {
     "data": {
      "application/vnd.jupyter.widget-view+json": {
       "model_id": "8a8e6142415a48429cf6a77fae99fcbc",
       "version_major": 2,
       "version_minor": 0
      },
      "text/plain": [
       "Running Epoch 0 of 3:   0%|          | 0/39 [00:00<?, ?it/s]"
      ]
     },
     "metadata": {},
     "output_type": "display_data"
    },
    {
     "data": {
      "application/vnd.jupyter.widget-view+json": {
       "model_id": "7cec5a12c6a749a0af6dbf38495a30cd",
       "version_major": 2,
       "version_minor": 0
      },
      "text/plain": [
       "Running Epoch 1 of 3:   0%|          | 0/39 [00:00<?, ?it/s]"
      ]
     },
     "metadata": {},
     "output_type": "display_data"
    },
    {
     "data": {
      "application/vnd.jupyter.widget-view+json": {
       "model_id": "d3dd34e7c2ad4c5f9fcc1c682d4f4f7f",
       "version_major": 2,
       "version_minor": 0
      },
      "text/plain": [
       "Running Epoch 2 of 3:   0%|          | 0/39 [00:00<?, ?it/s]"
      ]
     },
     "metadata": {},
     "output_type": "display_data"
    },
    {
     "name": "stderr",
     "output_type": "stream",
     "text": [
      "D:\\Anaconda\\lib\\site-packages\\simpletransformers\\classification\\classification_model.py:1454: UserWarning: Dataframe headers not specified. Falling back to using column 0 as text and column 1 as labels.\n",
      "  warnings.warn(\n"
     ]
    },
    {
     "data": {
      "application/vnd.jupyter.widget-view+json": {
       "model_id": "5b9146a953954127b2f024325a6e5e15",
       "version_major": 2,
       "version_minor": 0
      },
      "text/plain": [
       "  0%|          | 0/613 [00:00<?, ?it/s]"
      ]
     },
     "metadata": {},
     "output_type": "display_data"
    },
    {
     "data": {
      "application/vnd.jupyter.widget-view+json": {
       "model_id": "bb07d02b187948c0aa893b799da3e0bc",
       "version_major": 2,
       "version_minor": 0
      },
      "text/plain": [
       "Running Evaluation:   0%|          | 0/77 [00:00<?, ?it/s]"
      ]
     },
     "metadata": {},
     "output_type": "display_data"
    }
   ],
   "source": [
    "\n",
    "model.train_model(train)\n",
    "\n",
    "result, model_outputs, wrong_predictions = model.eval_model(test)\n",
    "\n",
    "predictions = model_outputs.argmax(axis=1)\n",
    "\n",
    "actuals = test.labels.values"
   ]
  },
  {
   "cell_type": "code",
   "execution_count": 9,
   "id": "6be93d10",
   "metadata": {},
   "outputs": [
    {
     "data": {
      "text/plain": [
       "array([3, 0, 2, 2, 3, 0, 4, 4, 1, 2], dtype=int64)"
      ]
     },
     "execution_count": 9,
     "metadata": {},
     "output_type": "execute_result"
    }
   ],
   "source": [
    "predictions[:10]"
   ]
  },
  {
   "cell_type": "code",
   "execution_count": 10,
   "id": "e9f69064",
   "metadata": {},
   "outputs": [
    {
     "data": {
      "text/plain": [
       "array([3, 0, 2, 2, 3, 0, 4, 4, 1, 2], dtype=int64)"
      ]
     },
     "execution_count": 10,
     "metadata": {},
     "output_type": "execute_result"
    }
   ],
   "source": [
    "actuals[:10]"
   ]
  },
  {
   "cell_type": "code",
   "execution_count": 11,
   "id": "2a6ccd54",
   "metadata": {},
   "outputs": [
    {
     "data": {
      "text/plain": [
       "0.9722675367047309"
      ]
     },
     "execution_count": 11,
     "metadata": {},
     "output_type": "execute_result"
    }
   ],
   "source": [
    "from sklearn.metrics import accuracy_score\n",
    "accuracy_score(actuals, predictions)"
   ]
  },
  {
   "cell_type": "code",
   "execution_count": 12,
   "id": "de9c4610",
   "metadata": {},
   "outputs": [
    {
     "name": "stdout",
     "output_type": "stream",
     "text": [
      "Kanserojen maddeler, serum ambalajlarına kadar sızdı. İstanbul’da, iki lise öğrencisi yaptığı araştırmayla bu gerçeği ortaya çıkardı. \"Sağlık Endüstrilerinde Yapısal Dönüşüm Programı\"yla tıbbi cihaz ve malzeme ihtiyacının yüzde 20'sinin, ilaç ihtiyacının ise yüzde 60'ının yerli üretimle karşılanması planlanıyor.\n"
     ]
    }
   ],
   "source": [
    "örnek = test.iloc[43]['metin']\n",
    "print(örnek)"
   ]
  },
  {
   "cell_type": "code",
   "execution_count": 21,
   "id": "f3d93e39",
   "metadata": {},
   "outputs": [
    {
     "data": {
      "application/vnd.jupyter.widget-view+json": {
       "model_id": "4e923ff2f58944108b9f6158f286e230",
       "version_major": 2,
       "version_minor": 0
      },
      "text/plain": [
       "  0%|          | 0/1 [00:00<?, ?it/s]"
      ]
     },
     "metadata": {},
     "output_type": "display_data"
    },
    {
     "data": {
      "application/vnd.jupyter.widget-view+json": {
       "model_id": "941e64841e204251b06b5f2f106d3b1c",
       "version_major": 2,
       "version_minor": 0
      },
      "text/plain": [
       "  0%|          | 0/1 [00:00<?, ?it/s]"
      ]
     },
     "metadata": {},
     "output_type": "display_data"
    }
   ],
   "source": [
    "denemem=pd.read_excel(\"denemem.xlsx\",names=[\"kategori\",\"metin\"])\n",
    "örnek=denemem.iloc[13][\"metin\"]\n",
    "tahmin=model.predict([örnek])"
   ]
  },
  {
   "cell_type": "code",
   "execution_count": 22,
   "id": "3996d821",
   "metadata": {},
   "outputs": [
    {
     "name": "stdout",
     "output_type": "stream",
     "text": [
      "SAĞLIK\n"
     ]
    }
   ],
   "source": [
    "if tahmin[0] ==0:\n",
    "  print(\"BİLİM VE TEKNOLOJİ\")\n",
    "elif tahmin[0]==1:\n",
    "  print(\"EKONOMİ\")\n",
    "elif tahmin[0]==2:\n",
    "  print(\"SAĞLIK\")\n",
    "elif tahmin[0]==3:\n",
    "  print(\"SİYASET\")\n",
    "else:\n",
    "  print(\"SPOR\")"
   ]
  },
  {
   "cell_type": "code",
   "execution_count": 18,
   "id": "66f92892",
   "metadata": {},
   "outputs": [
    {
     "data": {
      "text/html": [
       "<div>\n",
       "<style scoped>\n",
       "    .dataframe tbody tr th:only-of-type {\n",
       "        vertical-align: middle;\n",
       "    }\n",
       "\n",
       "    .dataframe tbody tr th {\n",
       "        vertical-align: top;\n",
       "    }\n",
       "\n",
       "    .dataframe thead th {\n",
       "        text-align: right;\n",
       "    }\n",
       "</style>\n",
       "<table border=\"1\" class=\"dataframe\">\n",
       "  <thead>\n",
       "    <tr style=\"text-align: right;\">\n",
       "      <th></th>\n",
       "      <th>kategori</th>\n",
       "      <th>metin</th>\n",
       "    </tr>\n",
       "  </thead>\n",
       "  <tbody>\n",
       "    <tr>\n",
       "      <th>0</th>\n",
       "      <td>Spor</td>\n",
       "      <td>İngiltere Premier Lig'in 33. haftasında Liverp...</td>\n",
       "    </tr>\n",
       "    <tr>\n",
       "      <th>1</th>\n",
       "      <td>Siyaset</td>\n",
       "      <td>Çanakkale İl Genel Meclisi Başkanı ve AK Parti...</td>\n",
       "    </tr>\n",
       "    <tr>\n",
       "      <th>2</th>\n",
       "      <td>Siyaset</td>\n",
       "      <td>Ana muhalefet partisi CHP’nin 12 yıldır başarı...</td>\n",
       "    </tr>\n",
       "    <tr>\n",
       "      <th>3</th>\n",
       "      <td>Siyaset</td>\n",
       "      <td>CHP’nin seçimden seçime seçmenini hatırladığın...</td>\n",
       "    </tr>\n",
       "    <tr>\n",
       "      <th>4</th>\n",
       "      <td>Spor</td>\n",
       "      <td>Premier Lig'de 2017-2018 ve 2018-2019 sezonlar...</td>\n",
       "    </tr>\n",
       "    <tr>\n",
       "      <th>5</th>\n",
       "      <td>Spor</td>\n",
       "      <td>Süper Lig'de 37. hafta mücadelesinde Konyaspor...</td>\n",
       "    </tr>\n",
       "    <tr>\n",
       "      <th>6</th>\n",
       "      <td>Ekonomi</td>\n",
       "      <td>ABD Ticaret Bakanı Gina Raimondo da iklim deği...</td>\n",
       "    </tr>\n",
       "    <tr>\n",
       "      <th>7</th>\n",
       "      <td>Ekonomi</td>\n",
       "      <td>BD'nin ev sahipliğinde 40 ülke liderinin katıl...</td>\n",
       "    </tr>\n",
       "    <tr>\n",
       "      <th>8</th>\n",
       "      <td>Ekonomi</td>\n",
       "      <td>Artık birçok işletme, modellerinde gölge karbo...</td>\n",
       "    </tr>\n",
       "    <tr>\n",
       "      <th>9</th>\n",
       "      <td>Teknoloji</td>\n",
       "      <td>Apple dün gerçekleştirdiği etkinlikte M1 işlem...</td>\n",
       "    </tr>\n",
       "    <tr>\n",
       "      <th>10</th>\n",
       "      <td>Sağlık</td>\n",
       "      <td>Sağlık Bakanı Fahrettin Koca, Bilim Kurulu top...</td>\n",
       "    </tr>\n",
       "    <tr>\n",
       "      <th>11</th>\n",
       "      <td>Sağlık</td>\n",
       "      <td>Türkiye'de son 24 saatte 318 bin 839 Kovid-19 ...</td>\n",
       "    </tr>\n",
       "    <tr>\n",
       "      <th>12</th>\n",
       "      <td>Teknoloji</td>\n",
       "      <td>HMD Global bünyesinde çalışmalarını sürdüren N...</td>\n",
       "    </tr>\n",
       "    <tr>\n",
       "      <th>13</th>\n",
       "      <td>NaN</td>\n",
       "      <td>Bunlarla beraber olay sadece savaş aracı değil...</td>\n",
       "    </tr>\n",
       "  </tbody>\n",
       "</table>\n",
       "</div>"
      ],
      "text/plain": [
       "     kategori                                              metin\n",
       "0        Spor  İngiltere Premier Lig'in 33. haftasında Liverp...\n",
       "1     Siyaset  Çanakkale İl Genel Meclisi Başkanı ve AK Parti...\n",
       "2     Siyaset  Ana muhalefet partisi CHP’nin 12 yıldır başarı...\n",
       "3     Siyaset  CHP’nin seçimden seçime seçmenini hatırladığın...\n",
       "4        Spor  Premier Lig'de 2017-2018 ve 2018-2019 sezonlar...\n",
       "5        Spor  Süper Lig'de 37. hafta mücadelesinde Konyaspor...\n",
       "6     Ekonomi  ABD Ticaret Bakanı Gina Raimondo da iklim deği...\n",
       "7     Ekonomi  BD'nin ev sahipliğinde 40 ülke liderinin katıl...\n",
       "8     Ekonomi  Artık birçok işletme, modellerinde gölge karbo...\n",
       "9   Teknoloji  Apple dün gerçekleştirdiği etkinlikte M1 işlem...\n",
       "10     Sağlık  Sağlık Bakanı Fahrettin Koca, Bilim Kurulu top...\n",
       "11     Sağlık  Türkiye'de son 24 saatte 318 bin 839 Kovid-19 ...\n",
       "12  Teknoloji  HMD Global bünyesinde çalışmalarını sürdüren N...\n",
       "13        NaN  Bunlarla beraber olay sadece savaş aracı değil..."
      ]
     },
     "execution_count": 18,
     "metadata": {},
     "output_type": "execute_result"
    }
   ],
   "source": [
    "denemem"
   ]
  },
  {
   "cell_type": "code",
   "execution_count": null,
   "id": "dac83e3f",
   "metadata": {},
   "outputs": [],
   "source": []
  }
 ],
 "metadata": {
  "kernelspec": {
   "display_name": "Python 3 (ipykernel)",
   "language": "python",
   "name": "python3"
  },
  "language_info": {
   "codemirror_mode": {
    "name": "ipython",
    "version": 3
   },
   "file_extension": ".py",
   "mimetype": "text/x-python",
   "name": "python",
   "nbconvert_exporter": "python",
   "pygments_lexer": "ipython3",
   "version": "3.9.12"
  }
 },
 "nbformat": 4,
 "nbformat_minor": 5
}
